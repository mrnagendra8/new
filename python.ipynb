{
 "cells": [
  {
   "cell_type": "code",
   "execution_count": 1,
   "id": "dab5255c",
   "metadata": {},
   "outputs": [],
   "source": [
    "import pandas as pd\n",
    "import numpy as np\n",
    "import matplotlib.pyplot as plt\n",
    "import seaborn as sns"
   ]
  },
  {
   "cell_type": "code",
   "execution_count": 2,
   "id": "424b14f5",
   "metadata": {},
   "outputs": [],
   "source": [
    "df = pd.read_csv(\"Data Analyst .csv\")"
   ]
  },
  {
   "cell_type": "code",
   "execution_count": 3,
   "id": "e614d88c",
   "metadata": {},
   "outputs": [
    {
     "data": {
      "text/html": [
       "<div>\n",
       "<style scoped>\n",
       "    .dataframe tbody tr th:only-of-type {\n",
       "        vertical-align: middle;\n",
       "    }\n",
       "\n",
       "    .dataframe tbody tr th {\n",
       "        vertical-align: top;\n",
       "    }\n",
       "\n",
       "    .dataframe thead th {\n",
       "        text-align: right;\n",
       "    }\n",
       "</style>\n",
       "<table border=\"1\" class=\"dataframe\">\n",
       "  <thead>\n",
       "    <tr style=\"text-align: right;\">\n",
       "      <th></th>\n",
       "      <th>Call Id</th>\n",
       "      <th>Lead Id</th>\n",
       "      <th>Campaign ID</th>\n",
       "      <th>Advertiser Id</th>\n",
       "      <th>Hid</th>\n",
       "      <th>Call Status</th>\n",
       "      <th>Lead Status</th>\n",
       "      <th>Agent Duration(seconds)</th>\n",
       "      <th>Customer Duration(seconds)</th>\n",
       "      <th>From Calling Number</th>\n",
       "      <th>To Calling Number</th>\n",
       "      <th>Attempt No</th>\n",
       "      <th>Created At</th>\n",
       "      <th>Updated At</th>\n",
       "      <th>Agent Id</th>\n",
       "      <th>Agent Name</th>\n",
       "    </tr>\n",
       "  </thead>\n",
       "  <tbody>\n",
       "    <tr>\n",
       "      <th>0</th>\n",
       "      <td>26807</td>\n",
       "      <td>410987</td>\n",
       "      <td>930228</td>\n",
       "      <td>1883</td>\n",
       "      <td>40831aceu6850re1ece43deeqf20a6o</td>\n",
       "      <td>no-answer</td>\n",
       "      <td>Not Interested</td>\n",
       "      <td>8</td>\n",
       "      <td>0</td>\n",
       "      <td>9.186570e+11</td>\n",
       "      <td>+919552777764</td>\n",
       "      <td>1</td>\n",
       "      <td>2024-04-01 11:35:19</td>\n",
       "      <td>2024-04-01 11:35:27</td>\n",
       "      <td>2728</td>\n",
       "      <td>Mansi Jaiswal</td>\n",
       "    </tr>\n",
       "    <tr>\n",
       "      <th>1</th>\n",
       "      <td>26808</td>\n",
       "      <td>410986</td>\n",
       "      <td>930228</td>\n",
       "      <td>1883</td>\n",
       "      <td>3dc489fbg6850pe1ece43deewf20a6v</td>\n",
       "      <td>completed</td>\n",
       "      <td>Not Interested</td>\n",
       "      <td>51</td>\n",
       "      <td>34</td>\n",
       "      <td>9.186570e+11</td>\n",
       "      <td>+917275507242</td>\n",
       "      <td>1</td>\n",
       "      <td>2024-04-01 11:35:27</td>\n",
       "      <td>2024-04-01 11:36:19</td>\n",
       "      <td>2728</td>\n",
       "      <td>Mansi Jaiswal</td>\n",
       "    </tr>\n",
       "    <tr>\n",
       "      <th>2</th>\n",
       "      <td>26809</td>\n",
       "      <td>410985</td>\n",
       "      <td>930228</td>\n",
       "      <td>1883</td>\n",
       "      <td>92d7bfbag6850se1ece43deevf20a6y</td>\n",
       "      <td>no-answer</td>\n",
       "      <td>Invalid Number</td>\n",
       "      <td>9</td>\n",
       "      <td>0</td>\n",
       "      <td>9.186570e+11</td>\n",
       "      <td>+919430734094</td>\n",
       "      <td>1</td>\n",
       "      <td>2024-04-01 11:36:19</td>\n",
       "      <td>2024-04-01 11:36:28</td>\n",
       "      <td>2728</td>\n",
       "      <td>Mansi Jaiswal</td>\n",
       "    </tr>\n",
       "    <tr>\n",
       "      <th>3</th>\n",
       "      <td>26810</td>\n",
       "      <td>410984</td>\n",
       "      <td>930228</td>\n",
       "      <td>1883</td>\n",
       "      <td>3a9872eem6850oe1ece43deetf20a6m</td>\n",
       "      <td>completed</td>\n",
       "      <td>Not Interested</td>\n",
       "      <td>45</td>\n",
       "      <td>25</td>\n",
       "      <td>9.186570e+11</td>\n",
       "      <td>+918349289209</td>\n",
       "      <td>1</td>\n",
       "      <td>2024-04-01 11:36:29</td>\n",
       "      <td>2024-04-01 11:37:15</td>\n",
       "      <td>2728</td>\n",
       "      <td>Mansi Jaiswal</td>\n",
       "    </tr>\n",
       "    <tr>\n",
       "      <th>4</th>\n",
       "      <td>26811</td>\n",
       "      <td>410981</td>\n",
       "      <td>930228</td>\n",
       "      <td>1883</td>\n",
       "      <td>3dde873bx6850je1ece43deehf20a6u</td>\n",
       "      <td>no-answer</td>\n",
       "      <td>Busy</td>\n",
       "      <td>45</td>\n",
       "      <td>0</td>\n",
       "      <td>9.186570e+11</td>\n",
       "      <td>+917054670061</td>\n",
       "      <td>1</td>\n",
       "      <td>2024-04-01 11:37:14</td>\n",
       "      <td>2024-04-01 11:38:00</td>\n",
       "      <td>2728</td>\n",
       "      <td>Mansi Jaiswal</td>\n",
       "    </tr>\n",
       "    <tr>\n",
       "      <th>...</th>\n",
       "      <td>...</td>\n",
       "      <td>...</td>\n",
       "      <td>...</td>\n",
       "      <td>...</td>\n",
       "      <td>...</td>\n",
       "      <td>...</td>\n",
       "      <td>...</td>\n",
       "      <td>...</td>\n",
       "      <td>...</td>\n",
       "      <td>...</td>\n",
       "      <td>...</td>\n",
       "      <td>...</td>\n",
       "      <td>...</td>\n",
       "      <td>...</td>\n",
       "      <td>...</td>\n",
       "      <td>...</td>\n",
       "    </tr>\n",
       "    <tr>\n",
       "      <th>24618</th>\n",
       "      <td>51694</td>\n",
       "      <td>452649</td>\n",
       "      <td>930270</td>\n",
       "      <td>1883</td>\n",
       "      <td>d449d4aewcze1ec687663hcne4373a65</td>\n",
       "      <td>completed</td>\n",
       "      <td>Not Interested</td>\n",
       "      <td>30</td>\n",
       "      <td>21</td>\n",
       "      <td>9.186570e+11</td>\n",
       "      <td>7837713409</td>\n",
       "      <td>1</td>\n",
       "      <td>2024-05-15 19:18:00</td>\n",
       "      <td>2024-05-15 19:18:31</td>\n",
       "      <td>2804</td>\n",
       "      <td>Niharika Bhatt</td>\n",
       "    </tr>\n",
       "    <tr>\n",
       "      <th>24619</th>\n",
       "      <td>51695</td>\n",
       "      <td>452648</td>\n",
       "      <td>930270</td>\n",
       "      <td>1883</td>\n",
       "      <td>43d96decjcle1ec687663zcnf55dce0f</td>\n",
       "      <td>completed</td>\n",
       "      <td>Call Back</td>\n",
       "      <td>34</td>\n",
       "      <td>23</td>\n",
       "      <td>9.186570e+11</td>\n",
       "      <td>9915515529</td>\n",
       "      <td>1</td>\n",
       "      <td>2024-05-15 19:18:30</td>\n",
       "      <td>2024-05-15 19:19:09</td>\n",
       "      <td>2804</td>\n",
       "      <td>Niharika Bhatt</td>\n",
       "    </tr>\n",
       "    <tr>\n",
       "      <th>24620</th>\n",
       "      <td>51696</td>\n",
       "      <td>452647</td>\n",
       "      <td>930270</td>\n",
       "      <td>1883</td>\n",
       "      <td>ff5897edxcwe1ec687663zcva2756b59</td>\n",
       "      <td>completed</td>\n",
       "      <td>Not Interested</td>\n",
       "      <td>79</td>\n",
       "      <td>60</td>\n",
       "      <td>9.186570e+11</td>\n",
       "      <td>9166733250</td>\n",
       "      <td>1</td>\n",
       "      <td>2024-05-15 19:19:09</td>\n",
       "      <td>2024-05-15 19:20:29</td>\n",
       "      <td>2804</td>\n",
       "      <td>Niharika Bhatt</td>\n",
       "    </tr>\n",
       "    <tr>\n",
       "      <th>24621</th>\n",
       "      <td>51697</td>\n",
       "      <td>452646</td>\n",
       "      <td>930270</td>\n",
       "      <td>1883</td>\n",
       "      <td>b485f83fjcle1ec687663kcy54cfacf3</td>\n",
       "      <td>no-answer</td>\n",
       "      <td>Voice Issue</td>\n",
       "      <td>16</td>\n",
       "      <td>0</td>\n",
       "      <td>9.186570e+11</td>\n",
       "      <td>9888255000</td>\n",
       "      <td>1</td>\n",
       "      <td>2024-05-15 19:20:28</td>\n",
       "      <td>2024-05-15 19:20:45</td>\n",
       "      <td>2804</td>\n",
       "      <td>Niharika Bhatt</td>\n",
       "    </tr>\n",
       "    <tr>\n",
       "      <th>24622</th>\n",
       "      <td>51698</td>\n",
       "      <td>452646</td>\n",
       "      <td>930270</td>\n",
       "      <td>1883</td>\n",
       "      <td>b485f83fjcle1ec687663kcy54cfacf3</td>\n",
       "      <td>completed</td>\n",
       "      <td>Voice Issue</td>\n",
       "      <td>51</td>\n",
       "      <td>35</td>\n",
       "      <td>9.186570e+11</td>\n",
       "      <td>9888255000</td>\n",
       "      <td>2</td>\n",
       "      <td>2024-05-15 19:20:45</td>\n",
       "      <td>2024-05-15 19:21:36</td>\n",
       "      <td>2804</td>\n",
       "      <td>Niharika Bhatt</td>\n",
       "    </tr>\n",
       "  </tbody>\n",
       "</table>\n",
       "<p>24623 rows × 16 columns</p>\n",
       "</div>"
      ],
      "text/plain": [
       "       Call Id  Lead Id  Campaign ID  Advertiser Id  \\\n",
       "0        26807   410987       930228           1883   \n",
       "1        26808   410986       930228           1883   \n",
       "2        26809   410985       930228           1883   \n",
       "3        26810   410984       930228           1883   \n",
       "4        26811   410981       930228           1883   \n",
       "...        ...      ...          ...            ...   \n",
       "24618    51694   452649       930270           1883   \n",
       "24619    51695   452648       930270           1883   \n",
       "24620    51696   452647       930270           1883   \n",
       "24621    51697   452646       930270           1883   \n",
       "24622    51698   452646       930270           1883   \n",
       "\n",
       "                                    Hid Call Status     Lead Status  \\\n",
       "0       40831aceu6850re1ece43deeqf20a6o   no-answer  Not Interested   \n",
       "1       3dc489fbg6850pe1ece43deewf20a6v   completed  Not Interested   \n",
       "2       92d7bfbag6850se1ece43deevf20a6y   no-answer  Invalid Number   \n",
       "3       3a9872eem6850oe1ece43deetf20a6m   completed  Not Interested   \n",
       "4       3dde873bx6850je1ece43deehf20a6u   no-answer            Busy   \n",
       "...                                 ...         ...             ...   \n",
       "24618  d449d4aewcze1ec687663hcne4373a65   completed  Not Interested   \n",
       "24619  43d96decjcle1ec687663zcnf55dce0f   completed       Call Back   \n",
       "24620  ff5897edxcwe1ec687663zcva2756b59   completed  Not Interested   \n",
       "24621  b485f83fjcle1ec687663kcy54cfacf3   no-answer     Voice Issue   \n",
       "24622  b485f83fjcle1ec687663kcy54cfacf3   completed     Voice Issue   \n",
       "\n",
       "       Agent Duration(seconds)  Customer Duration(seconds)  \\\n",
       "0                            8                           0   \n",
       "1                           51                          34   \n",
       "2                            9                           0   \n",
       "3                           45                          25   \n",
       "4                           45                           0   \n",
       "...                        ...                         ...   \n",
       "24618                       30                          21   \n",
       "24619                       34                          23   \n",
       "24620                       79                          60   \n",
       "24621                       16                           0   \n",
       "24622                       51                          35   \n",
       "\n",
       "       From Calling Number To Calling Number  Attempt No           Created At  \\\n",
       "0             9.186570e+11     +919552777764           1  2024-04-01 11:35:19   \n",
       "1             9.186570e+11     +917275507242           1  2024-04-01 11:35:27   \n",
       "2             9.186570e+11     +919430734094           1  2024-04-01 11:36:19   \n",
       "3             9.186570e+11     +918349289209           1  2024-04-01 11:36:29   \n",
       "4             9.186570e+11     +917054670061           1  2024-04-01 11:37:14   \n",
       "...                    ...               ...         ...                  ...   \n",
       "24618         9.186570e+11        7837713409           1  2024-05-15 19:18:00   \n",
       "24619         9.186570e+11        9915515529           1  2024-05-15 19:18:30   \n",
       "24620         9.186570e+11        9166733250           1  2024-05-15 19:19:09   \n",
       "24621         9.186570e+11        9888255000           1  2024-05-15 19:20:28   \n",
       "24622         9.186570e+11        9888255000           2  2024-05-15 19:20:45   \n",
       "\n",
       "                Updated At  Agent Id      Agent Name  \n",
       "0      2024-04-01 11:35:27      2728   Mansi Jaiswal  \n",
       "1      2024-04-01 11:36:19      2728   Mansi Jaiswal  \n",
       "2      2024-04-01 11:36:28      2728   Mansi Jaiswal  \n",
       "3      2024-04-01 11:37:15      2728   Mansi Jaiswal  \n",
       "4      2024-04-01 11:38:00      2728   Mansi Jaiswal  \n",
       "...                    ...       ...             ...  \n",
       "24618  2024-05-15 19:18:31      2804  Niharika Bhatt  \n",
       "24619  2024-05-15 19:19:09      2804  Niharika Bhatt  \n",
       "24620  2024-05-15 19:20:29      2804  Niharika Bhatt  \n",
       "24621  2024-05-15 19:20:45      2804  Niharika Bhatt  \n",
       "24622  2024-05-15 19:21:36      2804  Niharika Bhatt  \n",
       "\n",
       "[24623 rows x 16 columns]"
      ]
     },
     "execution_count": 3,
     "metadata": {},
     "output_type": "execute_result"
    }
   ],
   "source": [
    "df\n"
   ]
  },
  {
   "cell_type": "code",
   "execution_count": 4,
   "id": "6c5b1efa",
   "metadata": {},
   "outputs": [
    {
     "data": {
      "text/plain": [
       "Call Id                         int64\n",
       "Lead Id                         int64\n",
       "Campaign ID                     int64\n",
       "Advertiser Id                   int64\n",
       "Hid                            object\n",
       "Call Status                    object\n",
       "Lead Status                    object\n",
       "Agent Duration(seconds)         int64\n",
       "Customer Duration(seconds)      int64\n",
       "From Calling Number           float64\n",
       "To Calling Number              object\n",
       "Attempt No                      int64\n",
       "Created At                     object\n",
       "Updated At                     object\n",
       "Agent Id                        int64\n",
       "Agent Name                     object\n",
       "dtype: object"
      ]
     },
     "execution_count": 4,
     "metadata": {},
     "output_type": "execute_result"
    }
   ],
   "source": [
    "df.dtypes"
   ]
  },
  {
   "cell_type": "code",
   "execution_count": 5,
   "id": "9b1a2d90",
   "metadata": {},
   "outputs": [
    {
     "data": {
      "text/plain": [
       "(24623, 16)"
      ]
     },
     "execution_count": 5,
     "metadata": {},
     "output_type": "execute_result"
    }
   ],
   "source": [
    "df.shape"
   ]
  },
  {
   "cell_type": "code",
   "execution_count": 7,
   "id": "f92c0a7a",
   "metadata": {},
   "outputs": [
    {
     "data": {
      "text/plain": [
       "Call Id                         0\n",
       "Lead Id                         0\n",
       "Campaign ID                     0\n",
       "Advertiser Id                   0\n",
       "Hid                             0\n",
       "Call Status                     0\n",
       "Lead Status                     0\n",
       "Agent Duration(seconds)         0\n",
       "Customer Duration(seconds)      0\n",
       "From Calling Number           123\n",
       "To Calling Number               0\n",
       "Attempt No                      0\n",
       "Created At                      0\n",
       "Updated At                      0\n",
       "Agent Id                        0\n",
       "Agent Name                      0\n",
       "dtype: int64"
      ]
     },
     "execution_count": 7,
     "metadata": {},
     "output_type": "execute_result"
    }
   ],
   "source": [
    "df.isnull().sum()"
   ]
  },
  {
   "cell_type": "code",
   "execution_count": 15,
   "id": "557e3e5c",
   "metadata": {},
   "outputs": [
    {
     "data": {
      "text/plain": [
       "RangeIndex(start=0, stop=24623, step=1)"
      ]
     },
     "execution_count": 15,
     "metadata": {},
     "output_type": "execute_result"
    }
   ],
   "source": [
    "df.index"
   ]
  },
  {
   "cell_type": "code",
   "execution_count": 18,
   "id": "3ebcc551",
   "metadata": {},
   "outputs": [
    {
     "data": {
      "text/plain": [
       "0"
      ]
     },
     "execution_count": 18,
     "metadata": {},
     "output_type": "execute_result"
    }
   ],
   "source": [
    "len(df[df.duplicated()])"
   ]
  },
  {
   "cell_type": "code",
   "execution_count": 21,
   "id": "cb68561a",
   "metadata": {},
   "outputs": [],
   "source": [
    "df.dropna(inplace=True)"
   ]
  },
  {
   "cell_type": "code",
   "execution_count": 22,
   "id": "67a8060d",
   "metadata": {},
   "outputs": [
    {
     "data": {
      "text/plain": [
       "Call Id                       0\n",
       "Lead Id                       0\n",
       "Campaign ID                   0\n",
       "Advertiser Id                 0\n",
       "Hid                           0\n",
       "Call Status                   0\n",
       "Lead Status                   0\n",
       "Agent Duration(seconds)       0\n",
       "Customer Duration(seconds)    0\n",
       "From Calling Number           0\n",
       "To Calling Number             0\n",
       "Attempt No                    0\n",
       "Created At                    0\n",
       "Updated At                    0\n",
       "Agent Id                      0\n",
       "Agent Name                    0\n",
       "dtype: int64"
      ]
     },
     "execution_count": 22,
     "metadata": {},
     "output_type": "execute_result"
    }
   ],
   "source": [
    "df.isnull().sum()"
   ]
  },
  {
   "cell_type": "code",
   "execution_count": 24,
   "id": "22ae6273",
   "metadata": {},
   "outputs": [
    {
     "data": {
      "text/html": [
       "<div>\n",
       "<style scoped>\n",
       "    .dataframe tbody tr th:only-of-type {\n",
       "        vertical-align: middle;\n",
       "    }\n",
       "\n",
       "    .dataframe tbody tr th {\n",
       "        vertical-align: top;\n",
       "    }\n",
       "\n",
       "    .dataframe thead th {\n",
       "        text-align: right;\n",
       "    }\n",
       "</style>\n",
       "<table border=\"1\" class=\"dataframe\">\n",
       "  <thead>\n",
       "    <tr style=\"text-align: right;\">\n",
       "      <th></th>\n",
       "      <th>Call Id</th>\n",
       "      <th>Lead Id</th>\n",
       "      <th>Campaign ID</th>\n",
       "      <th>Advertiser Id</th>\n",
       "      <th>Hid</th>\n",
       "      <th>Call Status</th>\n",
       "      <th>Lead Status</th>\n",
       "      <th>Agent Duration(seconds)</th>\n",
       "      <th>Customer Duration(seconds)</th>\n",
       "      <th>From Calling Number</th>\n",
       "      <th>To Calling Number</th>\n",
       "      <th>Attempt No</th>\n",
       "      <th>Created At</th>\n",
       "      <th>Updated At</th>\n",
       "      <th>Agent Id</th>\n",
       "      <th>Agent Name</th>\n",
       "    </tr>\n",
       "  </thead>\n",
       "  <tbody>\n",
       "    <tr>\n",
       "      <th>0</th>\n",
       "      <td>26807</td>\n",
       "      <td>410987</td>\n",
       "      <td>930228</td>\n",
       "      <td>1883</td>\n",
       "      <td>40831aceu6850re1ece43deeqf20a6o</td>\n",
       "      <td>no-answer</td>\n",
       "      <td>Not Interested</td>\n",
       "      <td>8</td>\n",
       "      <td>0</td>\n",
       "      <td>9.186570e+11</td>\n",
       "      <td>+919552777764</td>\n",
       "      <td>1</td>\n",
       "      <td>2024-04-01 11:35:19</td>\n",
       "      <td>2024-04-01 11:35:27</td>\n",
       "      <td>2728</td>\n",
       "      <td>Mansi Jaiswal</td>\n",
       "    </tr>\n",
       "    <tr>\n",
       "      <th>1</th>\n",
       "      <td>26808</td>\n",
       "      <td>410986</td>\n",
       "      <td>930228</td>\n",
       "      <td>1883</td>\n",
       "      <td>3dc489fbg6850pe1ece43deewf20a6v</td>\n",
       "      <td>completed</td>\n",
       "      <td>Not Interested</td>\n",
       "      <td>51</td>\n",
       "      <td>34</td>\n",
       "      <td>9.186570e+11</td>\n",
       "      <td>+917275507242</td>\n",
       "      <td>1</td>\n",
       "      <td>2024-04-01 11:35:27</td>\n",
       "      <td>2024-04-01 11:36:19</td>\n",
       "      <td>2728</td>\n",
       "      <td>Mansi Jaiswal</td>\n",
       "    </tr>\n",
       "  </tbody>\n",
       "</table>\n",
       "</div>"
      ],
      "text/plain": [
       "   Call Id  Lead Id  Campaign ID  Advertiser Id  \\\n",
       "0    26807   410987       930228           1883   \n",
       "1    26808   410986       930228           1883   \n",
       "\n",
       "                               Hid Call Status     Lead Status  \\\n",
       "0  40831aceu6850re1ece43deeqf20a6o   no-answer  Not Interested   \n",
       "1  3dc489fbg6850pe1ece43deewf20a6v   completed  Not Interested   \n",
       "\n",
       "   Agent Duration(seconds)  Customer Duration(seconds)  From Calling Number  \\\n",
       "0                        8                           0         9.186570e+11   \n",
       "1                       51                          34         9.186570e+11   \n",
       "\n",
       "  To Calling Number  Attempt No           Created At           Updated At  \\\n",
       "0     +919552777764           1  2024-04-01 11:35:19  2024-04-01 11:35:27   \n",
       "1     +917275507242           1  2024-04-01 11:35:27  2024-04-01 11:36:19   \n",
       "\n",
       "   Agent Id     Agent Name  \n",
       "0      2728  Mansi Jaiswal  \n",
       "1      2728  Mansi Jaiswal  "
      ]
     },
     "execution_count": 24,
     "metadata": {},
     "output_type": "execute_result"
    }
   ],
   "source": [
    "df.head(2)"
   ]
  },
  {
   "cell_type": "code",
   "execution_count": 27,
   "id": "c230857b",
   "metadata": {},
   "outputs": [
    {
     "data": {
      "text/plain": [
       "24500"
      ]
     },
     "execution_count": 27,
     "metadata": {},
     "output_type": "execute_result"
    }
   ],
   "source": [
    "df['Call Id'].value_counts().sum() #Answer"
   ]
  },
  {
   "cell_type": "code",
   "execution_count": 29,
   "id": "774353e0",
   "metadata": {},
   "outputs": [
    {
     "data": {
      "text/plain": [
       "8277"
      ]
     },
     "execution_count": 29,
     "metadata": {},
     "output_type": "execute_result"
    }
   ],
   "source": [
    "df['Lead Id'].nunique() #Answer"
   ]
  },
  {
   "cell_type": "code",
   "execution_count": 33,
   "id": "02c06ca5",
   "metadata": {},
   "outputs": [
    {
     "data": {
      "text/plain": [
       "array([410987, 410986, 410985, ..., 452648, 452647, 452646])"
      ]
     },
     "execution_count": 33,
     "metadata": {},
     "output_type": "execute_result"
    }
   ],
   "source": [
    "df['Lead Id'].unique()"
   ]
  },
  {
   "cell_type": "code",
   "execution_count": 50,
   "id": "a66e8217",
   "metadata": {},
   "outputs": [
    {
     "data": {
      "text/plain": [
       "8454"
      ]
     },
     "execution_count": 50,
     "metadata": {},
     "output_type": "execute_result"
    }
   ],
   "source": [
    "df[df[\"Call Status\"] == \"completed\"].shape[0]  #Answer"
   ]
  },
  {
   "cell_type": "code",
   "execution_count": 52,
   "id": "abae514e",
   "metadata": {},
   "outputs": [
    {
     "name": "stdout",
     "output_type": "stream",
     "text": [
      "Unique calls completed: 5813\n"
     ]
    }
   ],
   "source": [
    "# Filter the DataFrame for rows where Call Status is \"completed\"\n",
    "completed_calls = df[df['Call Status'] == 'completed']\n",
    "\n",
    "# Count the distinct Lead Id values\n",
    "unique_leads = completed_calls['Lead Id'].nunique()\n",
    "\n",
    "# Print the result\n",
    "print(f\"Unique calls completed: {unique_leads}\")"
   ]
  },
  {
   "cell_type": "code",
   "execution_count": 84,
   "id": "d79c008d",
   "metadata": {},
   "outputs": [
    {
     "data": {
      "text/plain": [
       "3446"
      ]
     },
     "execution_count": 84,
     "metadata": {},
     "output_type": "execute_result"
    }
   ],
   "source": [
    "len(df[df[\"Lead Status\"] == \"Interested\"])\n",
    "\n"
   ]
  },
  {
   "cell_type": "code",
   "execution_count": 70,
   "id": "dacd72e7",
   "metadata": {},
   "outputs": [
    {
     "data": {
      "text/html": [
       "<div>\n",
       "<style scoped>\n",
       "    .dataframe tbody tr th:only-of-type {\n",
       "        vertical-align: middle;\n",
       "    }\n",
       "\n",
       "    .dataframe tbody tr th {\n",
       "        vertical-align: top;\n",
       "    }\n",
       "\n",
       "    .dataframe thead th {\n",
       "        text-align: right;\n",
       "    }\n",
       "</style>\n",
       "<table border=\"1\" class=\"dataframe\">\n",
       "  <thead>\n",
       "    <tr style=\"text-align: right;\">\n",
       "      <th></th>\n",
       "      <th>Call Id</th>\n",
       "      <th>Lead Id</th>\n",
       "      <th>Campaign ID</th>\n",
       "      <th>Advertiser Id</th>\n",
       "      <th>Hid</th>\n",
       "      <th>Call Status</th>\n",
       "      <th>Lead Status</th>\n",
       "      <th>Agent Duration(seconds)</th>\n",
       "      <th>Customer Duration(seconds)</th>\n",
       "      <th>From Calling Number</th>\n",
       "      <th>To Calling Number</th>\n",
       "      <th>Attempt No</th>\n",
       "      <th>Created At</th>\n",
       "      <th>Updated At</th>\n",
       "      <th>Agent Id</th>\n",
       "      <th>Agent Name</th>\n",
       "    </tr>\n",
       "  </thead>\n",
       "  <tbody>\n",
       "    <tr>\n",
       "      <th>0</th>\n",
       "      <td>26807</td>\n",
       "      <td>410987</td>\n",
       "      <td>930228</td>\n",
       "      <td>1883</td>\n",
       "      <td>40831aceu6850re1ece43deeqf20a6o</td>\n",
       "      <td>no-answer</td>\n",
       "      <td>Not Interested</td>\n",
       "      <td>8</td>\n",
       "      <td>0</td>\n",
       "      <td>9.186570e+11</td>\n",
       "      <td>+919552777764</td>\n",
       "      <td>1</td>\n",
       "      <td>2024-04-01 11:35:19</td>\n",
       "      <td>2024-04-01 11:35:27</td>\n",
       "      <td>2728</td>\n",
       "      <td>Mansi Jaiswal</td>\n",
       "    </tr>\n",
       "    <tr>\n",
       "      <th>1</th>\n",
       "      <td>26808</td>\n",
       "      <td>410986</td>\n",
       "      <td>930228</td>\n",
       "      <td>1883</td>\n",
       "      <td>3dc489fbg6850pe1ece43deewf20a6v</td>\n",
       "      <td>completed</td>\n",
       "      <td>Not Interested</td>\n",
       "      <td>51</td>\n",
       "      <td>34</td>\n",
       "      <td>9.186570e+11</td>\n",
       "      <td>+917275507242</td>\n",
       "      <td>1</td>\n",
       "      <td>2024-04-01 11:35:27</td>\n",
       "      <td>2024-04-01 11:36:19</td>\n",
       "      <td>2728</td>\n",
       "      <td>Mansi Jaiswal</td>\n",
       "    </tr>\n",
       "    <tr>\n",
       "      <th>2</th>\n",
       "      <td>26809</td>\n",
       "      <td>410985</td>\n",
       "      <td>930228</td>\n",
       "      <td>1883</td>\n",
       "      <td>92d7bfbag6850se1ece43deevf20a6y</td>\n",
       "      <td>no-answer</td>\n",
       "      <td>Invalid Number</td>\n",
       "      <td>9</td>\n",
       "      <td>0</td>\n",
       "      <td>9.186570e+11</td>\n",
       "      <td>+919430734094</td>\n",
       "      <td>1</td>\n",
       "      <td>2024-04-01 11:36:19</td>\n",
       "      <td>2024-04-01 11:36:28</td>\n",
       "      <td>2728</td>\n",
       "      <td>Mansi Jaiswal</td>\n",
       "    </tr>\n",
       "    <tr>\n",
       "      <th>3</th>\n",
       "      <td>26810</td>\n",
       "      <td>410984</td>\n",
       "      <td>930228</td>\n",
       "      <td>1883</td>\n",
       "      <td>3a9872eem6850oe1ece43deetf20a6m</td>\n",
       "      <td>completed</td>\n",
       "      <td>Not Interested</td>\n",
       "      <td>45</td>\n",
       "      <td>25</td>\n",
       "      <td>9.186570e+11</td>\n",
       "      <td>+918349289209</td>\n",
       "      <td>1</td>\n",
       "      <td>2024-04-01 11:36:29</td>\n",
       "      <td>2024-04-01 11:37:15</td>\n",
       "      <td>2728</td>\n",
       "      <td>Mansi Jaiswal</td>\n",
       "    </tr>\n",
       "    <tr>\n",
       "      <th>4</th>\n",
       "      <td>26811</td>\n",
       "      <td>410981</td>\n",
       "      <td>930228</td>\n",
       "      <td>1883</td>\n",
       "      <td>3dde873bx6850je1ece43deehf20a6u</td>\n",
       "      <td>no-answer</td>\n",
       "      <td>Busy</td>\n",
       "      <td>45</td>\n",
       "      <td>0</td>\n",
       "      <td>9.186570e+11</td>\n",
       "      <td>+917054670061</td>\n",
       "      <td>1</td>\n",
       "      <td>2024-04-01 11:37:14</td>\n",
       "      <td>2024-04-01 11:38:00</td>\n",
       "      <td>2728</td>\n",
       "      <td>Mansi Jaiswal</td>\n",
       "    </tr>\n",
       "    <tr>\n",
       "      <th>5</th>\n",
       "      <td>26812</td>\n",
       "      <td>410983</td>\n",
       "      <td>930228</td>\n",
       "      <td>1883</td>\n",
       "      <td>085ebc34t6850he1ece43deeqf20a6p</td>\n",
       "      <td>no-answer</td>\n",
       "      <td>No Answer</td>\n",
       "      <td>4</td>\n",
       "      <td>0</td>\n",
       "      <td>9.186570e+11</td>\n",
       "      <td>+918888623821</td>\n",
       "      <td>1</td>\n",
       "      <td>2024-04-01 11:38:00</td>\n",
       "      <td>2024-04-01 11:38:08</td>\n",
       "      <td>2728</td>\n",
       "      <td>Mansi Jaiswal</td>\n",
       "    </tr>\n",
       "    <tr>\n",
       "      <th>6</th>\n",
       "      <td>26813</td>\n",
       "      <td>410982</td>\n",
       "      <td>930228</td>\n",
       "      <td>1883</td>\n",
       "      <td>ee4c8ffeg6850se1ece43deezf20a6v</td>\n",
       "      <td>no-answer</td>\n",
       "      <td>Bought Another Product</td>\n",
       "      <td>12</td>\n",
       "      <td>0</td>\n",
       "      <td>9.186570e+11</td>\n",
       "      <td>+919993171351</td>\n",
       "      <td>1</td>\n",
       "      <td>2024-04-01 11:38:08</td>\n",
       "      <td>2024-04-01 11:38:31</td>\n",
       "      <td>2728</td>\n",
       "      <td>Mansi Jaiswal</td>\n",
       "    </tr>\n",
       "    <tr>\n",
       "      <th>7</th>\n",
       "      <td>26814</td>\n",
       "      <td>410980</td>\n",
       "      <td>930228</td>\n",
       "      <td>1883</td>\n",
       "      <td>04cd62a1r6850ue1ece43deeqf20a6k</td>\n",
       "      <td>no-answer</td>\n",
       "      <td>No Answer</td>\n",
       "      <td>45</td>\n",
       "      <td>0</td>\n",
       "      <td>9.186570e+11</td>\n",
       "      <td>+917249483882</td>\n",
       "      <td>1</td>\n",
       "      <td>2024-04-01 11:38:31</td>\n",
       "      <td>2024-04-01 11:39:17</td>\n",
       "      <td>2728</td>\n",
       "      <td>Mansi Jaiswal</td>\n",
       "    </tr>\n",
       "    <tr>\n",
       "      <th>8</th>\n",
       "      <td>26815</td>\n",
       "      <td>410979</td>\n",
       "      <td>930228</td>\n",
       "      <td>1883</td>\n",
       "      <td>b7d717c0k6850se1ece43deeof20a6s</td>\n",
       "      <td>completed</td>\n",
       "      <td>Already Verified</td>\n",
       "      <td>41</td>\n",
       "      <td>22</td>\n",
       "      <td>9.186570e+11</td>\n",
       "      <td>+919642633876</td>\n",
       "      <td>1</td>\n",
       "      <td>2024-04-01 11:39:17</td>\n",
       "      <td>2024-04-01 11:40:04</td>\n",
       "      <td>2728</td>\n",
       "      <td>Mansi Jaiswal</td>\n",
       "    </tr>\n",
       "    <tr>\n",
       "      <th>9</th>\n",
       "      <td>26816</td>\n",
       "      <td>410978</td>\n",
       "      <td>930228</td>\n",
       "      <td>1883</td>\n",
       "      <td>d905f102h6850je1ece43deetf20a6z</td>\n",
       "      <td>no-answer</td>\n",
       "      <td>Interested</td>\n",
       "      <td>9</td>\n",
       "      <td>0</td>\n",
       "      <td>9.186570e+11</td>\n",
       "      <td>+919604986741</td>\n",
       "      <td>1</td>\n",
       "      <td>2024-04-01 11:40:04</td>\n",
       "      <td>2024-04-01 11:40:13</td>\n",
       "      <td>2728</td>\n",
       "      <td>Mansi Jaiswal</td>\n",
       "    </tr>\n",
       "    <tr>\n",
       "      <th>10</th>\n",
       "      <td>26817</td>\n",
       "      <td>410977</td>\n",
       "      <td>930228</td>\n",
       "      <td>1883</td>\n",
       "      <td>3144da0fm6850ne1ece43deehf20a6g</td>\n",
       "      <td>completed</td>\n",
       "      <td>Bought Another Product</td>\n",
       "      <td>39</td>\n",
       "      <td>27</td>\n",
       "      <td>9.186570e+11</td>\n",
       "      <td>+919589875111</td>\n",
       "      <td>1</td>\n",
       "      <td>2024-04-01 11:40:13</td>\n",
       "      <td>2024-04-01 11:40:52</td>\n",
       "      <td>2728</td>\n",
       "      <td>Mansi Jaiswal</td>\n",
       "    </tr>\n",
       "    <tr>\n",
       "      <th>11</th>\n",
       "      <td>26818</td>\n",
       "      <td>410976</td>\n",
       "      <td>930228</td>\n",
       "      <td>1883</td>\n",
       "      <td>7c75b15dp6850pe1ece43deenf20a6n</td>\n",
       "      <td>completed</td>\n",
       "      <td>Not Interested</td>\n",
       "      <td>61</td>\n",
       "      <td>37</td>\n",
       "      <td>9.186570e+11</td>\n",
       "      <td>+919165065900</td>\n",
       "      <td>1</td>\n",
       "      <td>2024-04-01 11:40:52</td>\n",
       "      <td>2024-04-01 11:41:54</td>\n",
       "      <td>2728</td>\n",
       "      <td>Mansi Jaiswal</td>\n",
       "    </tr>\n",
       "    <tr>\n",
       "      <th>12</th>\n",
       "      <td>26819</td>\n",
       "      <td>410975</td>\n",
       "      <td>930228</td>\n",
       "      <td>1883</td>\n",
       "      <td>b6cc1828v6850xe1ece43deetf20a6t</td>\n",
       "      <td>no-answer</td>\n",
       "      <td>Not Interested</td>\n",
       "      <td>9</td>\n",
       "      <td>0</td>\n",
       "      <td>9.186570e+11</td>\n",
       "      <td>+918103430461</td>\n",
       "      <td>1</td>\n",
       "      <td>2024-04-01 11:41:54</td>\n",
       "      <td>2024-04-01 11:42:03</td>\n",
       "      <td>2728</td>\n",
       "      <td>Mansi Jaiswal</td>\n",
       "    </tr>\n",
       "    <tr>\n",
       "      <th>13</th>\n",
       "      <td>26820</td>\n",
       "      <td>410974</td>\n",
       "      <td>930228</td>\n",
       "      <td>1883</td>\n",
       "      <td>2330f34dh6850se1ece43deerf20a6g</td>\n",
       "      <td>no-answer</td>\n",
       "      <td>Not Interested</td>\n",
       "      <td>40</td>\n",
       "      <td>0</td>\n",
       "      <td>9.186570e+11</td>\n",
       "      <td>+919810986777</td>\n",
       "      <td>1</td>\n",
       "      <td>2024-04-01 11:42:03</td>\n",
       "      <td>2024-04-01 11:42:43</td>\n",
       "      <td>2728</td>\n",
       "      <td>Mansi Jaiswal</td>\n",
       "    </tr>\n",
       "    <tr>\n",
       "      <th>14</th>\n",
       "      <td>26821</td>\n",
       "      <td>410972</td>\n",
       "      <td>930228</td>\n",
       "      <td>1883</td>\n",
       "      <td>6444fea2h6850we1ece43de0yf20a6z</td>\n",
       "      <td>completed</td>\n",
       "      <td>Not Interested</td>\n",
       "      <td>34</td>\n",
       "      <td>25</td>\n",
       "      <td>9.186570e+11</td>\n",
       "      <td>+917748855667</td>\n",
       "      <td>1</td>\n",
       "      <td>2024-04-01 11:42:43</td>\n",
       "      <td>2024-04-01 11:43:40</td>\n",
       "      <td>2728</td>\n",
       "      <td>Mansi Jaiswal</td>\n",
       "    </tr>\n",
       "    <tr>\n",
       "      <th>15</th>\n",
       "      <td>26822</td>\n",
       "      <td>410971</td>\n",
       "      <td>930228</td>\n",
       "      <td>1883</td>\n",
       "      <td>c2bf1417k6850se1ece43de0sf20a6p</td>\n",
       "      <td>completed</td>\n",
       "      <td>Not Interested</td>\n",
       "      <td>39</td>\n",
       "      <td>23</td>\n",
       "      <td>9.186570e+11</td>\n",
       "      <td>+918700202518</td>\n",
       "      <td>1</td>\n",
       "      <td>2024-04-01 11:43:39</td>\n",
       "      <td>2024-04-01 11:44:19</td>\n",
       "      <td>2728</td>\n",
       "      <td>Mansi Jaiswal</td>\n",
       "    </tr>\n",
       "    <tr>\n",
       "      <th>16</th>\n",
       "      <td>26823</td>\n",
       "      <td>410970</td>\n",
       "      <td>930228</td>\n",
       "      <td>1883</td>\n",
       "      <td>492ff805x6850ge1ece43de0xf20a6j</td>\n",
       "      <td>no-answer</td>\n",
       "      <td>Not Interested</td>\n",
       "      <td>44</td>\n",
       "      <td>0</td>\n",
       "      <td>9.186570e+11</td>\n",
       "      <td>+919867339818</td>\n",
       "      <td>1</td>\n",
       "      <td>2024-04-01 11:44:19</td>\n",
       "      <td>2024-04-01 11:45:03</td>\n",
       "      <td>2728</td>\n",
       "      <td>Mansi Jaiswal</td>\n",
       "    </tr>\n",
       "    <tr>\n",
       "      <th>17</th>\n",
       "      <td>26824</td>\n",
       "      <td>410969</td>\n",
       "      <td>930228</td>\n",
       "      <td>1883</td>\n",
       "      <td>ab61d23fu6850ue1ece43de0rf20a6h</td>\n",
       "      <td>completed</td>\n",
       "      <td>Interested</td>\n",
       "      <td>102</td>\n",
       "      <td>77</td>\n",
       "      <td>9.186570e+11</td>\n",
       "      <td>+919758432537</td>\n",
       "      <td>1</td>\n",
       "      <td>2024-04-01 11:45:03</td>\n",
       "      <td>2024-04-01 11:46:45</td>\n",
       "      <td>2728</td>\n",
       "      <td>Mansi Jaiswal</td>\n",
       "    </tr>\n",
       "    <tr>\n",
       "      <th>18</th>\n",
       "      <td>26825</td>\n",
       "      <td>410968</td>\n",
       "      <td>930228</td>\n",
       "      <td>1883</td>\n",
       "      <td>225cc8afy6850we1ece43de0kf20a6m</td>\n",
       "      <td>completed</td>\n",
       "      <td>Not Interested</td>\n",
       "      <td>57</td>\n",
       "      <td>38</td>\n",
       "      <td>9.186570e+11</td>\n",
       "      <td>+918109560369</td>\n",
       "      <td>1</td>\n",
       "      <td>2024-04-01 11:46:45</td>\n",
       "      <td>2024-04-01 11:47:45</td>\n",
       "      <td>2728</td>\n",
       "      <td>Mansi Jaiswal</td>\n",
       "    </tr>\n",
       "    <tr>\n",
       "      <th>19</th>\n",
       "      <td>26826</td>\n",
       "      <td>410967</td>\n",
       "      <td>930228</td>\n",
       "      <td>1883</td>\n",
       "      <td>928914c5j6850oe1ece43de0xf20a6r</td>\n",
       "      <td>no-answer</td>\n",
       "      <td>Call Back</td>\n",
       "      <td>47</td>\n",
       "      <td>0</td>\n",
       "      <td>9.186570e+11</td>\n",
       "      <td>+919258065291</td>\n",
       "      <td>1</td>\n",
       "      <td>2024-04-01 11:47:44</td>\n",
       "      <td>2024-04-01 11:48:36</td>\n",
       "      <td>2728</td>\n",
       "      <td>Mansi Jaiswal</td>\n",
       "    </tr>\n",
       "  </tbody>\n",
       "</table>\n",
       "</div>"
      ],
      "text/plain": [
       "    Call Id  Lead Id  Campaign ID  Advertiser Id  \\\n",
       "0     26807   410987       930228           1883   \n",
       "1     26808   410986       930228           1883   \n",
       "2     26809   410985       930228           1883   \n",
       "3     26810   410984       930228           1883   \n",
       "4     26811   410981       930228           1883   \n",
       "5     26812   410983       930228           1883   \n",
       "6     26813   410982       930228           1883   \n",
       "7     26814   410980       930228           1883   \n",
       "8     26815   410979       930228           1883   \n",
       "9     26816   410978       930228           1883   \n",
       "10    26817   410977       930228           1883   \n",
       "11    26818   410976       930228           1883   \n",
       "12    26819   410975       930228           1883   \n",
       "13    26820   410974       930228           1883   \n",
       "14    26821   410972       930228           1883   \n",
       "15    26822   410971       930228           1883   \n",
       "16    26823   410970       930228           1883   \n",
       "17    26824   410969       930228           1883   \n",
       "18    26825   410968       930228           1883   \n",
       "19    26826   410967       930228           1883   \n",
       "\n",
       "                                Hid Call Status             Lead Status  \\\n",
       "0   40831aceu6850re1ece43deeqf20a6o   no-answer          Not Interested   \n",
       "1   3dc489fbg6850pe1ece43deewf20a6v   completed          Not Interested   \n",
       "2   92d7bfbag6850se1ece43deevf20a6y   no-answer          Invalid Number   \n",
       "3   3a9872eem6850oe1ece43deetf20a6m   completed          Not Interested   \n",
       "4   3dde873bx6850je1ece43deehf20a6u   no-answer                    Busy   \n",
       "5   085ebc34t6850he1ece43deeqf20a6p   no-answer               No Answer   \n",
       "6   ee4c8ffeg6850se1ece43deezf20a6v   no-answer  Bought Another Product   \n",
       "7   04cd62a1r6850ue1ece43deeqf20a6k   no-answer               No Answer   \n",
       "8   b7d717c0k6850se1ece43deeof20a6s   completed        Already Verified   \n",
       "9   d905f102h6850je1ece43deetf20a6z   no-answer              Interested   \n",
       "10  3144da0fm6850ne1ece43deehf20a6g   completed  Bought Another Product   \n",
       "11  7c75b15dp6850pe1ece43deenf20a6n   completed          Not Interested   \n",
       "12  b6cc1828v6850xe1ece43deetf20a6t   no-answer          Not Interested   \n",
       "13  2330f34dh6850se1ece43deerf20a6g   no-answer          Not Interested   \n",
       "14  6444fea2h6850we1ece43de0yf20a6z   completed          Not Interested   \n",
       "15  c2bf1417k6850se1ece43de0sf20a6p   completed          Not Interested   \n",
       "16  492ff805x6850ge1ece43de0xf20a6j   no-answer          Not Interested   \n",
       "17  ab61d23fu6850ue1ece43de0rf20a6h   completed              Interested   \n",
       "18  225cc8afy6850we1ece43de0kf20a6m   completed          Not Interested   \n",
       "19  928914c5j6850oe1ece43de0xf20a6r   no-answer               Call Back   \n",
       "\n",
       "    Agent Duration(seconds)  Customer Duration(seconds)  From Calling Number  \\\n",
       "0                         8                           0         9.186570e+11   \n",
       "1                        51                          34         9.186570e+11   \n",
       "2                         9                           0         9.186570e+11   \n",
       "3                        45                          25         9.186570e+11   \n",
       "4                        45                           0         9.186570e+11   \n",
       "5                         4                           0         9.186570e+11   \n",
       "6                        12                           0         9.186570e+11   \n",
       "7                        45                           0         9.186570e+11   \n",
       "8                        41                          22         9.186570e+11   \n",
       "9                         9                           0         9.186570e+11   \n",
       "10                       39                          27         9.186570e+11   \n",
       "11                       61                          37         9.186570e+11   \n",
       "12                        9                           0         9.186570e+11   \n",
       "13                       40                           0         9.186570e+11   \n",
       "14                       34                          25         9.186570e+11   \n",
       "15                       39                          23         9.186570e+11   \n",
       "16                       44                           0         9.186570e+11   \n",
       "17                      102                          77         9.186570e+11   \n",
       "18                       57                          38         9.186570e+11   \n",
       "19                       47                           0         9.186570e+11   \n",
       "\n",
       "   To Calling Number  Attempt No           Created At           Updated At  \\\n",
       "0      +919552777764           1  2024-04-01 11:35:19  2024-04-01 11:35:27   \n",
       "1      +917275507242           1  2024-04-01 11:35:27  2024-04-01 11:36:19   \n",
       "2      +919430734094           1  2024-04-01 11:36:19  2024-04-01 11:36:28   \n",
       "3      +918349289209           1  2024-04-01 11:36:29  2024-04-01 11:37:15   \n",
       "4      +917054670061           1  2024-04-01 11:37:14  2024-04-01 11:38:00   \n",
       "5      +918888623821           1  2024-04-01 11:38:00  2024-04-01 11:38:08   \n",
       "6      +919993171351           1  2024-04-01 11:38:08  2024-04-01 11:38:31   \n",
       "7      +917249483882           1  2024-04-01 11:38:31  2024-04-01 11:39:17   \n",
       "8      +919642633876           1  2024-04-01 11:39:17  2024-04-01 11:40:04   \n",
       "9      +919604986741           1  2024-04-01 11:40:04  2024-04-01 11:40:13   \n",
       "10     +919589875111           1  2024-04-01 11:40:13  2024-04-01 11:40:52   \n",
       "11     +919165065900           1  2024-04-01 11:40:52  2024-04-01 11:41:54   \n",
       "12     +918103430461           1  2024-04-01 11:41:54  2024-04-01 11:42:03   \n",
       "13     +919810986777           1  2024-04-01 11:42:03  2024-04-01 11:42:43   \n",
       "14     +917748855667           1  2024-04-01 11:42:43  2024-04-01 11:43:40   \n",
       "15     +918700202518           1  2024-04-01 11:43:39  2024-04-01 11:44:19   \n",
       "16     +919867339818           1  2024-04-01 11:44:19  2024-04-01 11:45:03   \n",
       "17     +919758432537           1  2024-04-01 11:45:03  2024-04-01 11:46:45   \n",
       "18     +918109560369           1  2024-04-01 11:46:45  2024-04-01 11:47:45   \n",
       "19     +919258065291           1  2024-04-01 11:47:44  2024-04-01 11:48:36   \n",
       "\n",
       "    Agent Id     Agent Name  \n",
       "0       2728  Mansi Jaiswal  \n",
       "1       2728  Mansi Jaiswal  \n",
       "2       2728  Mansi Jaiswal  \n",
       "3       2728  Mansi Jaiswal  \n",
       "4       2728  Mansi Jaiswal  \n",
       "5       2728  Mansi Jaiswal  \n",
       "6       2728  Mansi Jaiswal  \n",
       "7       2728  Mansi Jaiswal  \n",
       "8       2728  Mansi Jaiswal  \n",
       "9       2728  Mansi Jaiswal  \n",
       "10      2728  Mansi Jaiswal  \n",
       "11      2728  Mansi Jaiswal  \n",
       "12      2728  Mansi Jaiswal  \n",
       "13      2728  Mansi Jaiswal  \n",
       "14      2728  Mansi Jaiswal  \n",
       "15      2728  Mansi Jaiswal  \n",
       "16      2728  Mansi Jaiswal  \n",
       "17      2728  Mansi Jaiswal  \n",
       "18      2728  Mansi Jaiswal  \n",
       "19      2728  Mansi Jaiswal  "
      ]
     },
     "execution_count": 70,
     "metadata": {},
     "output_type": "execute_result"
    }
   ],
   "source": [
    "df.head(20)"
   ]
  },
  {
   "cell_type": "code",
   "execution_count": 107,
   "id": "cb50c229",
   "metadata": {},
   "outputs": [
    {
     "name": "stdout",
     "output_type": "stream",
     "text": [
      "Count of leads meeting advertiser criteria: 0\n"
     ]
    }
   ],
   "source": [
    "# Define the criteria\n",
    "criteria = (df['Call Status'] == 'Interested')\n",
    "# Filter the DataFrame based on the criteria\n",
    "qualified_leads = df[criteria]\n",
    "\n",
    "# Count the number of rows that meet the criteria\n",
    "count_qualified_leads = qualified_leads.shape[0]\n",
    "\n",
    "# Print the result\n",
    "print(f\"Count of leads meeting advertiser criteria: {count_qualified_leads}\")"
   ]
  },
  {
   "cell_type": "code",
   "execution_count": 90,
   "id": "cbb69cce",
   "metadata": {},
   "outputs": [
    {
     "data": {
      "text/plain": [
       "4907"
      ]
     },
     "execution_count": 90,
     "metadata": {},
     "output_type": "execute_result"
    }
   ],
   "source": [
    " len(df[df[\"Lead Status\"] == \"Not Interested\"])\n",
    "\n"
   ]
  },
  {
   "cell_type": "code",
   "execution_count": 91,
   "id": "17cba96e",
   "metadata": {},
   "outputs": [
    {
     "name": "stdout",
     "output_type": "stream",
     "text": [
      "Count of call_status = 'Not Interested': 4907\n"
     ]
    }
   ],
   "source": [
    "# Filter the DataFrame for rows where call_status is \"Not Interested\"\n",
    "not_interested_calls = df[df['Lead Status'] == 'Not Interested']\n",
    "\n",
    "# Count the number of rows\n",
    "count_not_interested = not_interested_calls.shape[0]\n",
    "\n",
    "# Print the result\n",
    "print(f\"Count of call_status = 'Not Interested': {count_not_interested}\")"
   ]
  },
  {
   "cell_type": "code",
   "execution_count": 97,
   "id": "e6ea3ddf",
   "metadata": {},
   "outputs": [
    {
     "data": {
      "text/plain": [
       "36.07967346938776"
      ]
     },
     "execution_count": 97,
     "metadata": {},
     "output_type": "execute_result"
    }
   ],
   "source": [
    "df['Agent Duration(seconds)'].mean()"
   ]
  },
  {
   "cell_type": "code",
   "execution_count": 100,
   "id": "10f9404d",
   "metadata": {},
   "outputs": [
    {
     "name": "stdout",
     "output_type": "stream",
     "text": [
      "Average of Agent Call Duration: 36.07967346938776\n"
     ]
    }
   ],
   "source": [
    "# Ensure the 'Agent Call Duration' column is of numeric type\n",
    "df['Agent Duration(seconds)'] = pd.to_numeric(df['Agent Duration(seconds)'], errors='coerce')\n",
    "\n",
    "# Calculate the average of 'Agent Call Duration'\n",
    "average_call_duration = df['Agent Duration(seconds)'].mean()\n",
    "\n",
    "# Print the result\n",
    "print(f\"Average of Agent Call Duration: {average_call_duration}\")"
   ]
  },
  {
   "cell_type": "code",
   "execution_count": 101,
   "id": "a1b62939",
   "metadata": {},
   "outputs": [
    {
     "data": {
      "text/plain": [
       "13.051877551020409"
      ]
     },
     "execution_count": 101,
     "metadata": {},
     "output_type": "execute_result"
    }
   ],
   "source": [
    "df['Customer Duration(seconds)'].mean()"
   ]
  },
  {
   "cell_type": "code",
   "execution_count": 105,
   "id": "e00e6de5",
   "metadata": {},
   "outputs": [
    {
     "name": "stdout",
     "output_type": "stream",
     "text": [
      "Average of Customer Duration(seconds): 13.051877551020409\n"
     ]
    }
   ],
   "source": [
    "# Ensure the 'Customer Call Duration' column is of numeric type\n",
    "df['Customer Duration(seconds)'] = pd.to_numeric(df['Customer Duration(seconds)'], errors='coerce')\n",
    "\n",
    "# Calculate the average of 'Customer Call Duration'\n",
    "average_call_duration = df['Customer Duration(seconds)'].mean()\n",
    "\n",
    "# Print the result\n",
    "print(f\"Average of Customer Duration(seconds): {average_call_duration}\")"
   ]
  },
  {
   "cell_type": "code",
   "execution_count": 106,
   "id": "4d7f32dd",
   "metadata": {},
   "outputs": [
    {
     "name": "stdout",
     "output_type": "stream",
     "text": [
      "Distribution of call statuses:\n",
      "Call Status\n",
      "no-answer    16041\n",
      "completed     8454\n",
      "failed           5\n",
      "Name: count, dtype: int64\n",
      "\n",
      "Relative distribution of call statuses (in percentages):\n",
      "Call Status\n",
      "no-answer    65.473469\n",
      "completed    34.506122\n",
      "failed        0.020408\n",
      "Name: proportion, dtype: float64\n"
     ]
    }
   ],
   "source": [
    "# Calculate the distribution of call statuses\n",
    "call_status_distribution = df['Call Status'].value_counts()\n",
    "\n",
    "# Print the result\n",
    "print(\"Distribution of call statuses:\")\n",
    "print(call_status_distribution)\n",
    "\n",
    "# Optionally, calculate the relative distribution (percentages)\n",
    "call_status_distribution_percentage = df['Call Status'].value_counts(normalize=True) * 100\n",
    "\n",
    "# Print the relative distribution\n",
    "print(\"\\nRelative distribution of call statuses (in percentages):\")\n",
    "print(call_status_distribution_percentage)"
   ]
  },
  {
   "cell_type": "markdown",
   "id": "275bbab6",
   "metadata": {},
   "source": [
    "# Number of calls made (count of call_sid per agent)\n"
   ]
  },
  {
   "cell_type": "code",
   "execution_count": 115,
   "id": "f3be25ea",
   "metadata": {},
   "outputs": [
    {
     "name": "stdout",
     "output_type": "stream",
     "text": [
      "     Agent Duration(seconds)  Call ID \n",
      "0                          0       321\n",
      "1                          1        65\n",
      "2                          2       139\n",
      "3                          3       133\n",
      "4                          4       479\n",
      "..                       ...       ...\n",
      "222                      302         1\n",
      "223                      303         1\n",
      "224                      304         1\n",
      "225                      312         1\n",
      "226                      495         1\n",
      "\n",
      "[227 rows x 2 columns]\n"
     ]
    }
   ],
   "source": [
    "# Ensure the necessary columns are present\n",
    "#required_columns = ['agent', 'Call Id']\n",
    "#if not all(column in df.columns for column in required_columns):\n",
    "   # raise ValueError(f\"CSV file must contain the following columns: {required_columns}\")\n",
    "\n",
    "# Drop rows with missing values in required columns\n",
    "#df.dropna(subset=required_columns, inplace=True)\n",
    "\n",
    "# Group by 'agent' and count the number of 'call_sid'\n",
    "call_sid_per_agent = df.groupby('Agent Duration(seconds)')['Call Id'].count().reset_index()\n",
    "\n",
    "# Rename columns for clarity\n",
    "call_sid_per_agent.columns = ['Agent Duration(seconds)', 'Call ID ']\n",
    "\n",
    "# Print the result\n",
    "print(call_sid_per_agent)"
   ]
  },
  {
   "cell_type": "markdown",
   "id": "aaba5903",
   "metadata": {},
   "source": [
    "# Calls connected (count of call_status = \"Answered\" per agent)"
   ]
  },
  {
   "cell_type": "code",
   "execution_count": 118,
   "id": "40ca8db3",
   "metadata": {},
   "outputs": [
    {
     "name": "stdout",
     "output_type": "stream",
     "text": [
      "     Agent Duration(seconds)  answered_count\n",
      "0                          7               1\n",
      "1                          8               1\n",
      "2                          9               2\n",
      "3                         10               3\n",
      "4                         11               8\n",
      "..                       ...             ...\n",
      "215                      302               1\n",
      "216                      303               1\n",
      "217                      304               1\n",
      "218                      312               1\n",
      "219                      495               1\n",
      "\n",
      "[220 rows x 2 columns]\n"
     ]
    }
   ],
   "source": [
    "# Filter for answered calls\n",
    "answered_calls = df[df['Call Status'] == 'completed']\n",
    "\n",
    "# Group by agent and count the number of answered calls\n",
    "calls_per_agent = answered_calls.groupby('Agent Duration(seconds)').size().reset_index(name='answered_count')\n",
    "\n",
    "print(calls_per_agent)"
   ]
  },
  {
   "cell_type": "markdown",
   "id": "0671f478",
   "metadata": {},
   "source": [
    "# Leads converted (count of call_status = \"Interested\" per agent)\n"
   ]
  },
  {
   "cell_type": "code",
   "execution_count": 120,
   "id": "5608ebd8",
   "metadata": {},
   "outputs": [
    {
     "name": "stdout",
     "output_type": "stream",
     "text": [
      "     Agent Duration(seconds)  interested_count\n",
      "0                          0                27\n",
      "1                          1                 5\n",
      "2                          2                 9\n",
      "3                          3                14\n",
      "4                          4                34\n",
      "..                       ...               ...\n",
      "215                      302                 1\n",
      "216                      303                 1\n",
      "217                      304                 1\n",
      "218                      312                 1\n",
      "219                      495                 1\n",
      "\n",
      "[220 rows x 2 columns]\n"
     ]
    }
   ],
   "source": [
    "#  Filter for interested calls\n",
    "interested_calls = df[df['Lead Status'] == 'Interested']\n",
    "\n",
    "#  Group by agent and count the number of interested calls\n",
    "leads_converted_per_agent = interested_calls.groupby('Agent Duration(seconds)').size().reset_index(name='interested_count')\n",
    "\n",
    "# Print the result\n",
    "print(leads_converted_per_agent)"
   ]
  },
  {
   "cell_type": "markdown",
   "id": "d6c839be",
   "metadata": {},
   "source": [
    "# Average agent call duration (average of Agent Call Duration per agent)\n"
   ]
  },
  {
   "cell_type": "code",
   "execution_count": 121,
   "id": "c0f7b1ed",
   "metadata": {},
   "outputs": [
    {
     "name": "stdout",
     "output_type": "stream",
     "text": [
      "     Agent Duration(seconds)  average_call_duration\n",
      "0                          0                    0.0\n",
      "1                          1                    0.0\n",
      "2                          2                    0.0\n",
      "3                          3                    0.0\n",
      "4                          4                    0.0\n",
      "..                       ...                    ...\n",
      "222                      302                  271.0\n",
      "223                      303                  284.0\n",
      "224                      304                  289.0\n",
      "225                      312                  296.0\n",
      "226                      495                  476.0\n",
      "\n",
      "[227 rows x 2 columns]\n"
     ]
    }
   ],
   "source": [
    "#  Ensure call_duration is of numeric type\n",
    "df['call_duration'] = pd.to_numeric(df['Customer Duration(seconds)'], errors='coerce')\n",
    "\n",
    "#  Group by agent and calculate the mean call duration\n",
    "average_duration_per_agent = df.groupby('Agent Duration(seconds)')['Customer Duration(seconds)'].mean().reset_index(name='average_call_duration')\n",
    "\n",
    "# Print the result\n",
    "print(average_duration_per_agent)"
   ]
  },
  {
   "cell_type": "markdown",
   "id": "929a815f",
   "metadata": {},
   "source": [
    "# Average customer call duration (average of Customer Call Duration per agent)\n"
   ]
  },
  {
   "cell_type": "code",
   "execution_count": 124,
   "id": "24c50a4b",
   "metadata": {},
   "outputs": [
    {
     "name": "stdout",
     "output_type": "stream",
     "text": [
      "Agent Duration(seconds)\n",
      "0        0.0\n",
      "1        0.0\n",
      "2        0.0\n",
      "3        0.0\n",
      "4        0.0\n",
      "       ...  \n",
      "302    271.0\n",
      "303    284.0\n",
      "304    289.0\n",
      "312    296.0\n",
      "495    476.0\n",
      "Name: Customer Duration(seconds), Length: 227, dtype: float64\n"
     ]
    }
   ],
   "source": [
    "average_duration_per_agent = df.groupby('Agent Duration(seconds)')['Customer Duration(seconds)'].mean()\n",
    "\n",
    "# Print the result\n",
    "print(average_duration_per_agent)"
   ]
  },
  {
   "cell_type": "code",
   "execution_count": null,
   "id": "2c04fdab",
   "metadata": {},
   "outputs": [],
   "source": []
  }
 ],
 "metadata": {
  "kernelspec": {
   "display_name": "Python 3 (ipykernel)",
   "language": "python",
   "name": "python3"
  },
  "language_info": {
   "codemirror_mode": {
    "name": "ipython",
    "version": 3
   },
   "file_extension": ".py",
   "mimetype": "text/x-python",
   "name": "python",
   "nbconvert_exporter": "python",
   "pygments_lexer": "ipython3",
   "version": "3.11.5"
  }
 },
 "nbformat": 4,
 "nbformat_minor": 5
}
